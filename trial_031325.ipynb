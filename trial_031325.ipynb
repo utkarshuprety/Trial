{
  "metadata": {
    "kernelspec": {
      "name": "python",
      "display_name": "Python (Pyodide)",
      "language": "python"
    },
    "language_info": {
      "codemirror_mode": {
        "name": "python",
        "version": 3
      },
      "file_extension": ".py",
      "mimetype": "text/x-python",
      "name": "python",
      "nbconvert_exporter": "python",
      "pygments_lexer": "ipython3",
      "version": "3.8"
    }
  },
  "nbformat_minor": 5,
  "nbformat": 4,
  "cells": [
    {
      "id": "a0b925fb-3833-4aa1-8577-c6d6be9eabbb",
      "cell_type": "markdown",
      "source": "# Contact Information",
      "metadata": {}
    },
    {
      "id": "a5f5888d-c898-4a86-a2c7-882453c0f4b0",
      "cell_type": "markdown",
      "source": "Author: Martin Wegmann\nContact: george@students.unibe.ch\nDate: 3.13.2025",
      "metadata": {}
    },
    {
      "id": "98680d19-31f5-4010-9fc7-2dc0ea775036",
      "cell_type": "markdown",
      "source": "# Analysis",
      "metadata": {}
    },
    {
      "id": "426d12f2-872f-4ed1-bafe-b5936bc49e31",
      "cell_type": "markdown",
      "source": "This is the computation of bunny fur color.\n* Bunny 1 \n* Bunny 2\n* Bunny 3",
      "metadata": {}
    },
    {
      "id": "9d9a0520-05a6-4f96-b131-6c262b74644b",
      "cell_type": "code",
      "source": "temperature = 234+123",
      "metadata": {
        "trusted": true
      },
      "outputs": [],
      "execution_count": 5
    },
    {
      "id": "fd6f1434-1c20-4fe0-9902-214f14675719",
      "cell_type": "code",
      "source": "temperature",
      "metadata": {
        "trusted": true
      },
      "outputs": [
        {
          "execution_count": 6,
          "output_type": "execute_result",
          "data": {
            "text/plain": "357"
          },
          "metadata": {}
        }
      ],
      "execution_count": 6
    },
    {
      "id": "8b247bbd-a1b2-44b1-8a17-cc7c929e114f",
      "cell_type": "markdown",
      "source": "# Liscence",
      "metadata": {}
    },
    {
      "id": "119d45ea-18c9-424d-8c52-63e7442bafd3",
      "cell_type": "markdown",
      "source": "<p xmlns:cc=\"http://creativecommons.org/ns#\" xmlns:dct=\"http://purl.org/dc/terms/\"><span property=\"dct:title\">trial</span> by <span property=\"cc:attributionName\">UU</span> is licensed under <a href=\"https://creativecommons.org/licenses/by/4.0/?ref=chooser-v1\" target=\"_blank\" rel=\"license noopener noreferrer\" style=\"display:inline-block;\">Creative Commons Attribution 4.0 International<img style=\"height:22px!important;margin-left:3px;vertical-align:text-bottom;\" src=\"https://mirrors.creativecommons.org/presskit/icons/cc.svg?ref=chooser-v1\" alt=\"\"><img style=\"height:22px!important;margin-left:3px;vertical-align:text-bottom;\" src=\"https://mirrors.creativecommons.org/presskit/icons/by.svg?ref=chooser-v1\" alt=\"\"></a></p>",
      "metadata": {}
    },
    {
      "id": "f23a7282-29ca-479c-a0f3-7be91a5d310d",
      "cell_type": "code",
      "source": "",
      "metadata": {
        "trusted": true
      },
      "outputs": [],
      "execution_count": null
    }
  ]
}